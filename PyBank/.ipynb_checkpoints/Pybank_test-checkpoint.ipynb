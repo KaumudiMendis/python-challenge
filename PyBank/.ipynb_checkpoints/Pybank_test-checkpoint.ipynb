{
 "cells": [
  {
   "cell_type": "code",
   "execution_count": 138,
   "id": "842d4e53-c91f-49a3-927a-d5c2310667ed",
   "metadata": {},
   "outputs": [
    {
     "name": "stdout",
     "output_type": "stream",
     "text": [
      "['Date', 'Profit/Losses']\n",
      "\n",
      "Financial Analysis\n",
      "-----------------------\n",
      "Total Months: 86\n",
      "Total: $38382578\n",
      "Average Change: $7895.282352941176\n",
      "\n"
     ]
    }
   ],
   "source": [
    "# Creating a Python script that analyzes the records to calculate each of the following:\n",
    "\n",
    "import os\n",
    "import csv\n",
    "\n",
    "#Creations of variables\n",
    "Input_file=\"PyBank/PyBank_Resources/budget_data.csv\"\n",
    "Output_file=\"PyBank/PyBank_Analysis/PyBank_Budget_Analysis.txt\"\n",
    "\n",
    "Input_file = os.path.join('..', 'PyBank', 'PyBank_Resources', 'budget_data.csv')\n",
    "Output_file=os.path.join(\"..\", 'PyBank', 'PyBank_Analysis', 'PyBank_Budget_Analysis.txt')\n",
    "\n",
    "\n",
    "Total_months=0\n",
    "Total=0\n",
    "Previous_profitnloss=0\n",
    "Profitnlosschange=[]\n",
    "Profitnlosschange_list=[]\n",
    "Greatest_increase=[\"\",0]\n",
    "Greatest_decrease=[\"\",99999999999999999999999]\n",
    "\n",
    "\n",
    "with open(Input_file) as Financial_data:\n",
    "    \n",
    "    # Input_file_reader specifies delimiter and variable that holds contents\n",
    "    reader = csv.reader(Financial_data, delimiter=',')   \n",
    "    # Reading the header row\n",
    "    header = next(reader)\n",
    "    \n",
    "    print(header)\n",
    "    \n",
    "    #The total number of months included in the dataset \n",
    "    \n",
    "    for row in reader:    \n",
    "        Total_months=Total_months+1\n",
    "    \n",
    "    \n",
    "#The net total amount of \"Profit/Losses\" over the entire period\n",
    "        Total=Total+int(row[1])\n",
    "\n",
    "#Calculate the changes in \"Profit/Losses\" over the entire period, then find the average of those changes\n",
    "        #first_row=next(reader)\n",
    "        #Previous_profitnloss=int(first_row[1])\n",
    "        Profitnlosschange=int(row[1])-Previous_profitnloss\n",
    "        Previous_profitnloss=int(row[1])\n",
    "        Profitnlosschange_list=Profitnlosschange_list+[Profitnlosschange]\n",
    "    Avarage_Change=sum(Profitnlosschange_list)/(Total_months-1)                         \n",
    "\n",
    "#The greatest increase in profits (date and amount) over the entire period\n",
    "\n",
    "#The greatest decrease in profits (date and amount) over the entire period\n",
    "\n",
    "# As an example, your analysis should look similar to the one below:\n",
    "\n",
    "\n",
    "\n",
    "Analysis_output=(\n",
    "    f\"\\nFinancial Analysis\\n\"\n",
    "    f\"-----------------------\\n\"\n",
    "    f\"Total Months: {Total_months}\\n\"\n",
    "    f\"Total: ${Total}\\n\"\n",
    "    f\"Average Change: ${Avarage_Change}\\n\")\n",
    "#    f\"Greatest Increase in Profits:{greatest_increase[0]}(${greatest_increase[1]}\\n\"\n",
    "#    f\"Greatest Increase in Profits:{greatest_decrease[0]}(${greatest_decrease[1]}\\n\"\n",
    "    \n",
    "\n",
    "#Print the Analysis to Terminal.\n",
    "print(Analysis_output)\n",
    "    \n",
    "#Export text file with the result.\n",
    "with open(Output_file, 'w') as Print_to_Text_file:\n",
    "        Print_to_Text_file.write(Analysis_output)\n",
    "    "
   ]
  },
  {
   "cell_type": "code",
   "execution_count": null,
   "id": "b2703725-a861-4abe-81cc-689a229858ea",
   "metadata": {},
   "outputs": [],
   "source": []
  },
  {
   "cell_type": "code",
   "execution_count": null,
   "id": "104bf94c-b6f0-4098-b767-7729504a4d70",
   "metadata": {},
   "outputs": [],
   "source": []
  }
 ],
 "metadata": {
  "kernelspec": {
   "display_name": "Python 3 (ipykernel)",
   "language": "python",
   "name": "python3"
  },
  "language_info": {
   "codemirror_mode": {
    "name": "ipython",
    "version": 3
   },
   "file_extension": ".py",
   "mimetype": "text/x-python",
   "name": "python",
   "nbconvert_exporter": "python",
   "pygments_lexer": "ipython3",
   "version": "3.9.7"
  }
 },
 "nbformat": 4,
 "nbformat_minor": 5
}
